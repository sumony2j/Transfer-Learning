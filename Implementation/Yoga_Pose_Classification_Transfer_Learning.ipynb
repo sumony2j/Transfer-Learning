{
 "cells": [
  {
   "cell_type": "markdown",
   "metadata": {},
   "source": [
    "## Load Libraries"
   ]
  },
  {
   "cell_type": "code",
   "execution_count": 1,
   "metadata": {
    "colab": {
     "base_uri": "https://localhost:8080/"
    },
    "id": "V1UinAWV_uMV",
    "outputId": "e0ad8129-8a7e-4597-a062-aa15a1fe02f7"
   },
   "outputs": [
    {
     "name": "stdout",
     "output_type": "stream",
     "text": [
      "Done..........\n"
     ]
    }
   ],
   "source": [
    "import numpy as np\n",
    "import os\n",
    "import shutil\n",
    "import seaborn as sns\n",
    "from sklearn.metrics import confusion_matrix,roc_curve\n",
    "import tensorflow as tf\n",
    "from tensorflow.keras.callbacks import EarlyStopping\n",
    "from tensorflow.keras.preprocessing.image import img_to_array,load_img,smart_resize,ImageDataGenerator,array_to_img,save_img\n",
    "import matplotlib.pyplot as plt\n",
    "import pandas as pd\n",
    "from mlxtend.plotting import plot_confusion_matrix\n",
    "from sklearn.utils import shuffle\n",
    "from sklearn.preprocessing import LabelEncoder\n",
    "from sklearn.metrics import classification_report\n",
    "from tensorflow.keras.utils import to_categorical\n",
    "from sklearn.model_selection import train_test_split\n",
    "from tensorflow.keras.utils import to_categorical\n",
    "from tensorflow.keras.applications.vgg16 import VGG16\n",
    "from tensorflow.keras.applications.vgg19 import VGG19\n",
    "from tensorflow.keras.applications.inception_v3 import InceptionV3\n",
    "from tensorflow.keras.applications.resnet50 import ResNet50\n",
    "from tensorflow.keras.applications.densenet import DenseNet201\n",
    "from tensorflow.keras.applications.resnet_v2 import ResNet50V2,ResNet152V2,ResNet101V2\n",
    "from tensorflow.keras.applications.mobilenet import MobileNet\n",
    "from tensorflow.keras.applications.mobilenet_v2 import MobileNetV2\n",
    "from tensorflow.keras.applications.inception_resnet_v2 import InceptionResNetV2\n",
    "from tensorflow.keras.models import Sequential,Model\n",
    "from tensorflow.keras import regularizers\n",
    "from tensorflow.keras.layers import Dense,Activation,Flatten,GlobalAveragePooling2D,Dropout,BatchNormalization,Conv2D\n",
    "print('Done..........')"
   ]
  },
  {
   "cell_type": "code",
   "execution_count": 2,
   "metadata": {
    "colab": {
     "base_uri": "https://localhost:8080/",
     "height": 35
    },
    "id": "-1tpkNWqtVlp",
    "outputId": "0bb26c0e-7df7-4a1f-cf5f-21fe32e7bdb3"
   },
   "outputs": [
    {
     "data": {
      "text/plain": [
       "'2.9.0'"
      ]
     },
     "execution_count": 2,
     "metadata": {},
     "output_type": "execute_result"
    }
   ],
   "source": [
    "tf.__version__"
   ]
  },
  {
   "cell_type": "markdown",
   "metadata": {},
   "source": [
    "## GPU "
   ]
  },
  {
   "cell_type": "code",
   "execution_count": 3,
   "metadata": {
    "colab": {
     "base_uri": "https://localhost:8080/"
    },
    "id": "eyX79Ayn-1Pd",
    "outputId": "57fdb6fb-97a8-435e-b450-bcab296c0483"
   },
   "outputs": [
    {
     "data": {
      "text/plain": [
       "[PhysicalDevice(name='/physical_device:GPU:0', device_type='GPU')]"
      ]
     },
     "execution_count": 3,
     "metadata": {},
     "output_type": "execute_result"
    }
   ],
   "source": [
    "tf.config.list_physical_devices('GPU')"
   ]
  },
  {
   "cell_type": "code",
   "execution_count": 4,
   "metadata": {},
   "outputs": [
    {
     "name": "stdout",
     "output_type": "stream",
     "text": [
      "[name: \"/device:CPU:0\"\n",
      "device_type: \"CPU\"\n",
      "memory_limit: 268435456\n",
      "locality {\n",
      "}\n",
      "incarnation: 11652150292410839879\n",
      "xla_global_id: -1\n",
      ", name: \"/device:GPU:0\"\n",
      "device_type: \"GPU\"\n",
      "memory_limit: 1738696295\n",
      "locality {\n",
      "  bus_id: 1\n",
      "  links {\n",
      "  }\n",
      "}\n",
      "incarnation: 7885309775013850477\n",
      "physical_device_desc: \"device: 0, name: NVIDIA GeForce RTX 3050 Laptop GPU, pci bus id: 0000:01:00.0, compute capability: 8.6\"\n",
      "xla_global_id: 416903419\n",
      "]\n"
     ]
    }
   ],
   "source": [
    "from tensorflow.python.client import device_lib\n",
    "print(device_lib.list_local_devices())"
   ]
  },
  {
   "cell_type": "markdown",
   "metadata": {},
   "source": [
    "## Set Seed"
   ]
  },
  {
   "cell_type": "code",
   "execution_count": 5,
   "metadata": {
    "id": "dxHcARIYJuBh"
   },
   "outputs": [],
   "source": [
    "tf.random.set_seed(42)\n",
    "os.environ['PYTHONHASHSEED']=str(42)\n",
    "np.random.seed(42)\n",
    "tf.config.experimental.enable_op_determinism()"
   ]
  },
  {
   "cell_type": "markdown",
   "metadata": {},
   "source": [
    "## Dataset"
   ]
  },
  {
   "cell_type": "code",
   "execution_count": 6,
   "metadata": {
    "id": "fvNo9sHtAaZp"
   },
   "outputs": [],
   "source": [
    "dataset_path = './Yoga_New_Dataset_Resized/'"
   ]
  },
  {
   "cell_type": "code",
   "execution_count": 7,
   "metadata": {
    "id": "oOrgtjvcCv9K"
   },
   "outputs": [],
   "source": [
    "train_dir = '../Yoga_New_Dataset_Resized/TRAIN/'\n",
    "test_dir = '../Yoga_New_Dataset_Resized/TEST/'"
   ]
  },
  {
   "cell_type": "markdown",
   "metadata": {
    "id": "WO5QP3QOJ4Od"
   },
   "source": [
    "## Data Augmentation ( Optional )\n",
    "**Uncomment the following section of data augmentation for augmented data**"
   ]
  },
  {
   "cell_type": "code",
   "execution_count": 8,
   "metadata": {
    "id": "1ohclw5mh24W"
   },
   "outputs": [],
   "source": [
    "# Datagen = ImageDataGenerator(rescale=1./255,shear_range=0.2,zoom_range=0.2,horizontal_flip=True,rotation_range=40, fill_mode='nearest',width_shift_range=0.2, height_shift_range=0.2)"
   ]
  },
  {
   "cell_type": "code",
   "execution_count": 9,
   "metadata": {
    "id": "zXLQKE1Qh8zM"
   },
   "outputs": [],
   "source": [
    "# train_generator = Datagen.flow_from_directory(train_dir,batch_size=1000,class_mode='categorical',target_size=(100,100))"
   ]
  },
  {
   "cell_type": "code",
   "execution_count": 10,
   "metadata": {
    "id": "k-zXcDqHOOAt"
   },
   "outputs": [],
   "source": [
    "# print(train_generator.class_indices)"
   ]
  },
  {
   "cell_type": "code",
   "execution_count": 11,
   "metadata": {
    "id": "-O4fTHVg27qk"
   },
   "outputs": [],
   "source": [
    "# New_Img_Features,New_Img_Label = train_generator.next()"
   ]
  },
  {
   "cell_type": "code",
   "execution_count": 12,
   "metadata": {
    "colab": {
     "base_uri": "https://localhost:8080/",
     "height": 70
    },
    "id": "fhCWq5DgA86F",
    "outputId": "c6bae90d-a75f-48fc-dcef-92b7ca646615"
   },
   "outputs": [],
   "source": [
    "# for i in range(len(New_Img_Label)):\n",
    "#     lab = list(New_Img_Label[i]).index(1.0)\n",
    "#     cls = list(train_generator.class_indices.keys())[list(train_generator.class_indices.values()).index(lab)]\n",
    "#     New_Img_Features[i]=New_Img_Features[i]*255\n",
    "#     save_path=train_dir+cls+'/augmented_'+cls+str(i)+'.jpg'\n",
    "#     save_img(save_path,New_Img_Features[i])"
   ]
  },
  {
   "cell_type": "markdown",
   "metadata": {
    "id": "QYDOop1uJ9Cn"
   },
   "source": [
    "##  Data Augmentation (End)"
   ]
  },
  {
   "cell_type": "markdown",
   "metadata": {},
   "source": [
    "## Data Labeling"
   ]
  },
  {
   "cell_type": "code",
   "execution_count": 13,
   "metadata": {
    "id": "FCwKlKF8DLzQ"
   },
   "outputs": [],
   "source": [
    "Train_Label = []\n",
    "Test_Label = []"
   ]
  },
  {
   "cell_type": "code",
   "execution_count": 14,
   "metadata": {
    "id": "rjkS40UJD1PH"
   },
   "outputs": [],
   "source": [
    "for img_dir in os.listdir(train_dir):\n",
    "    for img in os.listdir(train_dir+'/'+img_dir):\n",
    "        Train_Label.append(img_dir)"
   ]
  },
  {
   "cell_type": "code",
   "execution_count": 15,
   "metadata": {
    "id": "i0tQ1xb8D5C8"
   },
   "outputs": [],
   "source": [
    "for img_dir in os.listdir(test_dir):\n",
    "    for img in os.listdir(test_dir+'/'+img_dir):\n",
    "        Test_Label.append(img_dir)"
   ]
  },
  {
   "cell_type": "code",
   "execution_count": 16,
   "metadata": {
    "colab": {
     "base_uri": "https://localhost:8080/"
    },
    "id": "isVmGET9D-PH",
    "outputId": "c650ce14-83c7-4278-c63c-93422f9d0eb6"
   },
   "outputs": [
    {
     "data": {
      "text/plain": [
       "1081"
      ]
     },
     "execution_count": 16,
     "metadata": {},
     "output_type": "execute_result"
    }
   ],
   "source": [
    "len(Train_Label)"
   ]
  },
  {
   "cell_type": "code",
   "execution_count": 17,
   "metadata": {
    "colab": {
     "base_uri": "https://localhost:8080/"
    },
    "id": "uyqW3fovEOkL",
    "outputId": "af5c8d52-930b-4a9e-ef33-012fb93ef4a6"
   },
   "outputs": [
    {
     "data": {
      "text/plain": [
       "470"
      ]
     },
     "execution_count": 17,
     "metadata": {},
     "output_type": "execute_result"
    }
   ],
   "source": [
    "len(Test_Label)"
   ]
  },
  {
   "cell_type": "markdown",
   "metadata": {},
   "source": [
    "## Features"
   ]
  },
  {
   "cell_type": "code",
   "execution_count": 18,
   "metadata": {
    "id": "Wg0RfDnRERxY"
   },
   "outputs": [],
   "source": [
    "Train_Features = []\n",
    "Test_Features = []"
   ]
  },
  {
   "cell_type": "code",
   "execution_count": 19,
   "metadata": {
    "colab": {
     "base_uri": "https://localhost:8080/"
    },
    "id": "WPyTdgpREU1u",
    "outputId": "d9f2ede2-9592-4613-bdb5-775c477bef77"
   },
   "outputs": [
    {
     "name": "stderr",
     "output_type": "stream",
     "text": [
      "C:\\ProgramData\\Anaconda3\\envs\\tf2.9\\lib\\site-packages\\PIL\\Image.py:996: UserWarning: Palette images with Transparency expressed in bytes should be converted to RGBA images\n",
      "  warnings.warn(\n"
     ]
    }
   ],
   "source": [
    "for img_dir in os.listdir(train_dir):\n",
    "    for img in os.listdir(train_dir+'/'+img_dir):\n",
    "        pic = load_img(train_dir+'/'+img_dir+'/'+img)\n",
    "        Train_Features.append(img_to_array(pic))"
   ]
  },
  {
   "cell_type": "code",
   "execution_count": 20,
   "metadata": {
    "id": "mYEi6EbaEb-X"
   },
   "outputs": [],
   "source": [
    "for img_dir in os.listdir(test_dir):\n",
    "    for img in os.listdir(test_dir+'/'+img_dir):\n",
    "        pic = load_img(test_dir+'/'+img_dir+'/'+img)\n",
    "        Test_Features.append(img_to_array(pic))"
   ]
  },
  {
   "cell_type": "code",
   "execution_count": 21,
   "metadata": {
    "colab": {
     "base_uri": "https://localhost:8080/"
    },
    "id": "YQL02d4YEi8d",
    "outputId": "1241d576-86da-4cd5-902b-da89bb94762d"
   },
   "outputs": [
    {
     "data": {
      "text/plain": [
       "1081"
      ]
     },
     "execution_count": 21,
     "metadata": {},
     "output_type": "execute_result"
    }
   ],
   "source": [
    "len(Train_Features)"
   ]
  },
  {
   "cell_type": "code",
   "execution_count": 22,
   "metadata": {
    "colab": {
     "base_uri": "https://localhost:8080/"
    },
    "id": "XBC3N9gKEmUf",
    "outputId": "75bd5daa-665b-460f-b8c6-4bba35d86244"
   },
   "outputs": [
    {
     "data": {
      "text/plain": [
       "470"
      ]
     },
     "execution_count": 22,
     "metadata": {},
     "output_type": "execute_result"
    }
   ],
   "source": [
    "len(Test_Features)"
   ]
  },
  {
   "cell_type": "markdown",
   "metadata": {},
   "source": [
    "## Scaling & Encoding"
   ]
  },
  {
   "cell_type": "code",
   "execution_count": 23,
   "metadata": {
    "id": "1TDqfvTyEpuk"
   },
   "outputs": [],
   "source": [
    "Train_Features = np.asarray(Train_Features)/255\n",
    "Test_Features = np.asarray(Test_Features)/255"
   ]
  },
  {
   "cell_type": "code",
   "execution_count": 24,
   "metadata": {
    "id": "pLztwIC5Ev6C"
   },
   "outputs": [],
   "source": [
    "encoder = LabelEncoder()\n",
    "Train_Label = encoder.fit_transform(Train_Label)\n",
    "Test_Label = encoder.transform(Test_Label)"
   ]
  },
  {
   "cell_type": "code",
   "execution_count": 25,
   "metadata": {
    "colab": {
     "base_uri": "https://localhost:8080/"
    },
    "id": "kPJfe492SJH8",
    "outputId": "ede54fa0-ce55-45a5-cbe3-5f08795cccb3"
   },
   "outputs": [
    {
     "data": {
      "text/plain": [
       "array(['downdog', 'goddess', 'plank', 'tree', 'warrior2'], dtype='<U8')"
      ]
     },
     "execution_count": 25,
     "metadata": {},
     "output_type": "execute_result"
    }
   ],
   "source": [
    "encoder.classes_"
   ]
  },
  {
   "cell_type": "code",
   "execution_count": 26,
   "metadata": {
    "id": "0IOJPm7kE3Fz"
   },
   "outputs": [],
   "source": [
    "tr_y = to_categorical(Train_Label,len(set(Train_Label)))\n",
    "test_y = to_categorical(Test_Label,len(set(Test_Label)))"
   ]
  },
  {
   "cell_type": "markdown",
   "metadata": {
    "id": "tNm4L648xWAF"
   },
   "source": [
    "## Base Model\n",
    "**Uncomment the desired model and try**"
   ]
  },
  {
   "cell_type": "code",
   "execution_count": 27,
   "metadata": {
    "id": "eEC6nxCWE6z5"
   },
   "outputs": [],
   "source": [
    "Base_Model = VGG19(input_shape=(100,100,3),weights='imagenet',include_top=False)"
   ]
  },
  {
   "cell_type": "code",
   "execution_count": 28,
   "metadata": {
    "id": "0HBeHBAGHkGf"
   },
   "outputs": [],
   "source": [
    "# Base_Model = VGG16(input_shape=(100,100,3),weights='imagenet',include_top=False)"
   ]
  },
  {
   "cell_type": "code",
   "execution_count": 29,
   "metadata": {
    "id": "3hz_qxX4Srpd"
   },
   "outputs": [],
   "source": [
    "# Base_Model = InceptionV3(input_shape=(100,100,3),weights='imagenet',include_top=False)"
   ]
  },
  {
   "cell_type": "code",
   "execution_count": 30,
   "metadata": {
    "id": "2jwsqDu-TmBM"
   },
   "outputs": [],
   "source": [
    "# Base_Model = DenseNet201(input_shape=(100,100,3),weights='imagenet',include_top=False)"
   ]
  },
  {
   "cell_type": "code",
   "execution_count": 31,
   "metadata": {
    "id": "XkS2Ou-aIYTo"
   },
   "outputs": [],
   "source": [
    "# Base_Model = ResNet50(input_shape=(100,100,3),weights='imagenet',include_top=False)"
   ]
  },
  {
   "cell_type": "code",
   "execution_count": 32,
   "metadata": {
    "id": "PPO9A3pBWmA6"
   },
   "outputs": [],
   "source": [
    "# Base_Model = ResNet50V2(input_shape=(100,100,3),weights='imagenet',include_top=False)"
   ]
  },
  {
   "cell_type": "code",
   "execution_count": 33,
   "metadata": {
    "id": "TCUNm-VyXMeB"
   },
   "outputs": [],
   "source": [
    "# Base_Model = ResNet101V2(input_shape=(100,100,3),weights='imagenet',include_top=False)"
   ]
  },
  {
   "cell_type": "code",
   "execution_count": 34,
   "metadata": {
    "id": "k66yzm5GXMvu"
   },
   "outputs": [],
   "source": [
    "# Base_Model = ResNet152V2(input_shape=(100,100,3),weights='imagenet',include_top=False)"
   ]
  },
  {
   "cell_type": "code",
   "execution_count": 35,
   "metadata": {
    "id": "g81RmHWPa9EW"
   },
   "outputs": [],
   "source": [
    "# Base_Model = MobileNet(input_shape=(100,100,3),weights='imagenet',include_top=False)"
   ]
  },
  {
   "cell_type": "code",
   "execution_count": 36,
   "metadata": {
    "id": "4tLJ-450bjyN"
   },
   "outputs": [],
   "source": [
    "# Base_Model = MobileNetV2(input_shape=(100,100,3),weights='imagenet',include_top=False)"
   ]
  },
  {
   "cell_type": "code",
   "execution_count": 37,
   "metadata": {
    "id": "fp7yu_6ocgf9"
   },
   "outputs": [],
   "source": [
    "# Base_Model = InceptionResNetV2(input_shape=(100,100,3),weights='imagenet',include_top=False)"
   ]
  },
  {
   "cell_type": "markdown",
   "metadata": {},
   "source": [
    "## Model's Summary"
   ]
  },
  {
   "cell_type": "code",
   "execution_count": 38,
   "metadata": {
    "colab": {
     "base_uri": "https://localhost:8080/"
    },
    "id": "CV7LatMQFALQ",
    "outputId": "e4e2c05d-c97d-44c2-98ba-c32aace71c2a"
   },
   "outputs": [
    {
     "name": "stdout",
     "output_type": "stream",
     "text": [
      "Model: \"vgg19\"\n",
      "_________________________________________________________________\n",
      " Layer (type)                Output Shape              Param #   \n",
      "=================================================================\n",
      " input_1 (InputLayer)        [(None, 100, 100, 3)]     0         \n",
      "                                                                 \n",
      " block1_conv1 (Conv2D)       (None, 100, 100, 64)      1792      \n",
      "                                                                 \n",
      " block1_conv2 (Conv2D)       (None, 100, 100, 64)      36928     \n",
      "                                                                 \n",
      " block1_pool (MaxPooling2D)  (None, 50, 50, 64)        0         \n",
      "                                                                 \n",
      " block2_conv1 (Conv2D)       (None, 50, 50, 128)       73856     \n",
      "                                                                 \n",
      " block2_conv2 (Conv2D)       (None, 50, 50, 128)       147584    \n",
      "                                                                 \n",
      " block2_pool (MaxPooling2D)  (None, 25, 25, 128)       0         \n",
      "                                                                 \n",
      " block3_conv1 (Conv2D)       (None, 25, 25, 256)       295168    \n",
      "                                                                 \n",
      " block3_conv2 (Conv2D)       (None, 25, 25, 256)       590080    \n",
      "                                                                 \n",
      " block3_conv3 (Conv2D)       (None, 25, 25, 256)       590080    \n",
      "                                                                 \n",
      " block3_conv4 (Conv2D)       (None, 25, 25, 256)       590080    \n",
      "                                                                 \n",
      " block3_pool (MaxPooling2D)  (None, 12, 12, 256)       0         \n",
      "                                                                 \n",
      " block4_conv1 (Conv2D)       (None, 12, 12, 512)       1180160   \n",
      "                                                                 \n",
      " block4_conv2 (Conv2D)       (None, 12, 12, 512)       2359808   \n",
      "                                                                 \n",
      " block4_conv3 (Conv2D)       (None, 12, 12, 512)       2359808   \n",
      "                                                                 \n",
      " block4_conv4 (Conv2D)       (None, 12, 12, 512)       2359808   \n",
      "                                                                 \n",
      " block4_pool (MaxPooling2D)  (None, 6, 6, 512)         0         \n",
      "                                                                 \n",
      " block5_conv1 (Conv2D)       (None, 6, 6, 512)         2359808   \n",
      "                                                                 \n",
      " block5_conv2 (Conv2D)       (None, 6, 6, 512)         2359808   \n",
      "                                                                 \n",
      " block5_conv3 (Conv2D)       (None, 6, 6, 512)         2359808   \n",
      "                                                                 \n",
      " block5_conv4 (Conv2D)       (None, 6, 6, 512)         2359808   \n",
      "                                                                 \n",
      " block5_pool (MaxPooling2D)  (None, 3, 3, 512)         0         \n",
      "                                                                 \n",
      "=================================================================\n",
      "Total params: 20,024,384\n",
      "Trainable params: 20,024,384\n",
      "Non-trainable params: 0\n",
      "_________________________________________________________________\n"
     ]
    }
   ],
   "source": [
    "Base_Model.summary()"
   ]
  },
  {
   "cell_type": "code",
   "execution_count": 39,
   "metadata": {
    "id": "2yi1ukCvFMj2"
   },
   "outputs": [],
   "source": [
    "Base_Model.trainable = False"
   ]
  },
  {
   "cell_type": "markdown",
   "metadata": {},
   "source": [
    "## Final Layer"
   ]
  },
  {
   "cell_type": "code",
   "execution_count": 40,
   "metadata": {
    "id": "ARq8g5GYFRiY"
   },
   "outputs": [],
   "source": [
    "final_model = [\n",
    "        Flatten(),\n",
    "        Dense(units=256,activation='relu'),\n",
    "        Dense(units=128,activation='relu'),\n",
    "        Dropout(0.3),\n",
    "        Dense(units=64,activation='relu'),\n",
    "        Dropout(0.3),\n",
    "        Dense(units=32,activation='relu'),\n",
    "        Dropout(0.3),\n",
    "        Dense(units=16,activation='relu'),\n",
    "        Dropout(0.3),\n",
    "        Dense(units=len(set(Train_Label)),activation='softmax')\n",
    "        ]"
   ]
  },
  {
   "cell_type": "markdown",
   "metadata": {},
   "source": [
    "## Model Compiling & Training"
   ]
  },
  {
   "cell_type": "code",
   "execution_count": 41,
   "metadata": {
    "id": "9l4I-6GbFUYH"
   },
   "outputs": [],
   "source": [
    "all_layers = [Base_Model]\n",
    "for i in final_model:\n",
    "    all_layers.append(i)"
   ]
  },
  {
   "cell_type": "code",
   "execution_count": 42,
   "metadata": {
    "id": "l2OSn7LGFYmk"
   },
   "outputs": [],
   "source": [
    "model = Sequential(all_layers)"
   ]
  },
  {
   "cell_type": "code",
   "execution_count": 43,
   "metadata": {},
   "outputs": [
    {
     "name": "stdout",
     "output_type": "stream",
     "text": [
      "Model: \"sequential\"\n",
      "_________________________________________________________________\n",
      " Layer (type)                Output Shape              Param #   \n",
      "=================================================================\n",
      " vgg19 (Functional)          (None, 3, 3, 512)         20024384  \n",
      "                                                                 \n",
      " flatten (Flatten)           (None, 4608)              0         \n",
      "                                                                 \n",
      " dense (Dense)               (None, 256)               1179904   \n",
      "                                                                 \n",
      " dense_1 (Dense)             (None, 128)               32896     \n",
      "                                                                 \n",
      " dropout (Dropout)           (None, 128)               0         \n",
      "                                                                 \n",
      " dense_2 (Dense)             (None, 64)                8256      \n",
      "                                                                 \n",
      " dropout_1 (Dropout)         (None, 64)                0         \n",
      "                                                                 \n",
      " dense_3 (Dense)             (None, 32)                2080      \n",
      "                                                                 \n",
      " dropout_2 (Dropout)         (None, 32)                0         \n",
      "                                                                 \n",
      " dense_4 (Dense)             (None, 16)                528       \n",
      "                                                                 \n",
      " dropout_3 (Dropout)         (None, 16)                0         \n",
      "                                                                 \n",
      " dense_5 (Dense)             (None, 5)                 85        \n",
      "                                                                 \n",
      "=================================================================\n",
      "Total params: 21,248,133\n",
      "Trainable params: 1,223,749\n",
      "Non-trainable params: 20,024,384\n",
      "_________________________________________________________________\n"
     ]
    }
   ],
   "source": [
    "model.summary()"
   ]
  },
  {
   "cell_type": "code",
   "execution_count": 44,
   "metadata": {
    "id": "KdJzcLdlFpEw"
   },
   "outputs": [],
   "source": [
    "model.compile(optimizer='adam',loss='categorical_crossentropy',metrics=['acc'])"
   ]
  },
  {
   "cell_type": "code",
   "execution_count": 45,
   "metadata": {
    "id": "zP5picpAD95J"
   },
   "outputs": [],
   "source": [
    "callback = EarlyStopping(monitor='loss',patience=3)"
   ]
  },
  {
   "cell_type": "code",
   "execution_count": 46,
   "metadata": {
    "colab": {
     "base_uri": "https://localhost:8080/"
    },
    "id": "9ytsCzI6F2E4",
    "outputId": "1e6775e3-3545-483b-abc1-805921445f85"
   },
   "outputs": [
    {
     "name": "stdout",
     "output_type": "stream",
     "text": [
      "Epoch 1/100\n",
      "9/9 [==============================] - 23s 1s/step - loss: 1.7342 - acc: 0.1952 - val_loss: 1.5966 - val_acc: 0.2468\n",
      "Epoch 2/100\n",
      "9/9 [==============================] - 4s 416ms/step - loss: 1.6221 - acc: 0.2396 - val_loss: 1.5589 - val_acc: 0.3106\n",
      "Epoch 3/100\n",
      "9/9 [==============================] - 4s 413ms/step - loss: 1.5980 - acc: 0.2451 - val_loss: 1.5205 - val_acc: 0.4915\n",
      "Epoch 4/100\n",
      "9/9 [==============================] - 4s 415ms/step - loss: 1.5769 - acc: 0.2525 - val_loss: 1.4902 - val_acc: 0.5681\n",
      "Epoch 5/100\n",
      "9/9 [==============================] - 4s 419ms/step - loss: 1.5016 - acc: 0.3414 - val_loss: 1.2783 - val_acc: 0.6468\n",
      "Epoch 6/100\n",
      "9/9 [==============================] - 4s 417ms/step - loss: 1.3863 - acc: 0.3996 - val_loss: 1.0885 - val_acc: 0.6894\n",
      "Epoch 7/100\n",
      "9/9 [==============================] - 4s 417ms/step - loss: 1.2913 - acc: 0.4958 - val_loss: 0.9595 - val_acc: 0.7511\n",
      "Epoch 8/100\n",
      "9/9 [==============================] - 4s 418ms/step - loss: 1.2305 - acc: 0.4857 - val_loss: 0.7960 - val_acc: 0.8745\n",
      "Epoch 9/100\n",
      "9/9 [==============================] - 4s 418ms/step - loss: 1.0809 - acc: 0.5643 - val_loss: 0.6401 - val_acc: 0.8596\n",
      "Epoch 10/100\n",
      "9/9 [==============================] - 4s 418ms/step - loss: 1.0143 - acc: 0.5819 - val_loss: 0.6078 - val_acc: 0.8894\n",
      "Epoch 11/100\n",
      "9/9 [==============================] - 4s 421ms/step - loss: 0.9221 - acc: 0.6438 - val_loss: 0.4822 - val_acc: 0.8681\n",
      "Epoch 12/100\n",
      "9/9 [==============================] - 4s 420ms/step - loss: 0.8923 - acc: 0.6577 - val_loss: 0.4079 - val_acc: 0.9000\n",
      "Epoch 13/100\n",
      "9/9 [==============================] - 4s 421ms/step - loss: 0.7638 - acc: 0.7197 - val_loss: 0.3945 - val_acc: 0.9064\n",
      "Epoch 14/100\n",
      "9/9 [==============================] - 4s 421ms/step - loss: 0.6649 - acc: 0.7595 - val_loss: 0.3421 - val_acc: 0.9064\n",
      "Epoch 15/100\n",
      "9/9 [==============================] - 4s 422ms/step - loss: 0.6633 - acc: 0.7456 - val_loss: 0.3172 - val_acc: 0.9191\n",
      "Epoch 16/100\n",
      "9/9 [==============================] - 4s 423ms/step - loss: 0.5532 - acc: 0.8057 - val_loss: 0.2801 - val_acc: 0.9064\n",
      "Epoch 17/100\n",
      "9/9 [==============================] - 4s 424ms/step - loss: 0.5471 - acc: 0.8039 - val_loss: 0.2823 - val_acc: 0.9043\n",
      "Epoch 18/100\n",
      "9/9 [==============================] - 4s 428ms/step - loss: 0.4868 - acc: 0.8233 - val_loss: 0.3189 - val_acc: 0.9043\n",
      "Epoch 19/100\n",
      "9/9 [==============================] - 7s 827ms/step - loss: 0.4698 - acc: 0.8307 - val_loss: 0.2329 - val_acc: 0.9234\n",
      "Epoch 20/100\n",
      "9/9 [==============================] - 4s 417ms/step - loss: 0.4005 - acc: 0.8557 - val_loss: 0.2537 - val_acc: 0.9213\n",
      "Epoch 21/100\n",
      "9/9 [==============================] - 4s 421ms/step - loss: 0.4016 - acc: 0.8659 - val_loss: 0.2665 - val_acc: 0.9298\n",
      "Epoch 22/100\n",
      "9/9 [==============================] - 4s 423ms/step - loss: 0.3369 - acc: 0.8871 - val_loss: 0.2456 - val_acc: 0.9298\n",
      "Epoch 23/100\n",
      "9/9 [==============================] - 4s 421ms/step - loss: 0.3148 - acc: 0.8881 - val_loss: 0.2963 - val_acc: 0.9191\n",
      "Epoch 24/100\n",
      "9/9 [==============================] - 4s 421ms/step - loss: 0.2962 - acc: 0.9121 - val_loss: 0.3231 - val_acc: 0.9149\n",
      "Epoch 25/100\n",
      "9/9 [==============================] - 4s 422ms/step - loss: 0.3375 - acc: 0.8918 - val_loss: 0.2823 - val_acc: 0.9277\n",
      "Epoch 26/100\n",
      "9/9 [==============================] - 4s 422ms/step - loss: 0.2878 - acc: 0.9093 - val_loss: 0.3160 - val_acc: 0.9298\n",
      "Epoch 27/100\n",
      "9/9 [==============================] - 4s 422ms/step - loss: 0.2714 - acc: 0.9084 - val_loss: 0.3349 - val_acc: 0.9170\n",
      "Epoch 28/100\n",
      "9/9 [==============================] - 4s 422ms/step - loss: 0.2303 - acc: 0.9306 - val_loss: 0.3554 - val_acc: 0.9064\n",
      "Epoch 29/100\n",
      "9/9 [==============================] - 4s 423ms/step - loss: 0.2470 - acc: 0.9241 - val_loss: 0.3326 - val_acc: 0.9106\n",
      "Epoch 30/100\n",
      "9/9 [==============================] - 4s 421ms/step - loss: 0.2420 - acc: 0.9288 - val_loss: 0.2879 - val_acc: 0.9468\n",
      "Epoch 31/100\n",
      "9/9 [==============================] - 4s 423ms/step - loss: 0.2206 - acc: 0.9362 - val_loss: 0.3169 - val_acc: 0.9319\n",
      "Epoch 32/100\n",
      "9/9 [==============================] - 4s 424ms/step - loss: 0.2029 - acc: 0.9445 - val_loss: 0.3842 - val_acc: 0.9191\n",
      "Epoch 33/100\n",
      "9/9 [==============================] - 4s 423ms/step - loss: 0.2127 - acc: 0.9306 - val_loss: 0.3267 - val_acc: 0.9213\n",
      "Epoch 34/100\n",
      "9/9 [==============================] - 4s 422ms/step - loss: 0.1747 - acc: 0.9519 - val_loss: 0.3932 - val_acc: 0.9234\n",
      "Epoch 35/100\n",
      "9/9 [==============================] - 4s 421ms/step - loss: 0.1541 - acc: 0.9528 - val_loss: 0.3756 - val_acc: 0.9277\n",
      "Epoch 36/100\n",
      "9/9 [==============================] - 4s 424ms/step - loss: 0.1451 - acc: 0.9584 - val_loss: 0.4223 - val_acc: 0.9277\n",
      "Epoch 37/100\n",
      "9/9 [==============================] - 4s 422ms/step - loss: 0.1507 - acc: 0.9565 - val_loss: 0.4405 - val_acc: 0.9255\n",
      "Epoch 38/100\n",
      "9/9 [==============================] - 4s 423ms/step - loss: 0.1709 - acc: 0.9537 - val_loss: 0.4188 - val_acc: 0.9277\n",
      "Epoch 39/100\n",
      "9/9 [==============================] - 4s 424ms/step - loss: 0.1158 - acc: 0.9648 - val_loss: 0.4610 - val_acc: 0.9255\n",
      "Epoch 40/100\n",
      "9/9 [==============================] - 4s 425ms/step - loss: 0.1131 - acc: 0.9667 - val_loss: 0.5326 - val_acc: 0.9191\n",
      "Epoch 41/100\n",
      "9/9 [==============================] - 4s 425ms/step - loss: 0.0994 - acc: 0.9658 - val_loss: 0.4720 - val_acc: 0.9234\n",
      "Epoch 42/100\n",
      "9/9 [==============================] - 4s 423ms/step - loss: 0.1218 - acc: 0.9630 - val_loss: 0.3964 - val_acc: 0.9255\n",
      "Epoch 43/100\n",
      "9/9 [==============================] - 4s 426ms/step - loss: 0.0978 - acc: 0.9722 - val_loss: 0.4429 - val_acc: 0.9362\n",
      "Epoch 44/100\n",
      "9/9 [==============================] - 4s 425ms/step - loss: 0.0902 - acc: 0.9722 - val_loss: 0.5524 - val_acc: 0.9234\n",
      "Epoch 45/100\n",
      "9/9 [==============================] - 4s 426ms/step - loss: 0.1052 - acc: 0.9630 - val_loss: 0.4687 - val_acc: 0.9319\n",
      "Epoch 46/100\n",
      "9/9 [==============================] - 4s 426ms/step - loss: 0.0915 - acc: 0.9685 - val_loss: 0.5252 - val_acc: 0.9298\n",
      "Epoch 47/100\n",
      "9/9 [==============================] - 4s 426ms/step - loss: 0.0833 - acc: 0.9732 - val_loss: 0.4625 - val_acc: 0.9191\n",
      "Epoch 48/100\n",
      "9/9 [==============================] - 4s 426ms/step - loss: 0.1006 - acc: 0.9722 - val_loss: 0.5239 - val_acc: 0.9298\n",
      "Epoch 49/100\n",
      "9/9 [==============================] - 4s 425ms/step - loss: 0.0903 - acc: 0.9713 - val_loss: 0.6875 - val_acc: 0.9170\n",
      "Epoch 50/100\n",
      "9/9 [==============================] - 4s 429ms/step - loss: 0.0915 - acc: 0.9722 - val_loss: 0.5128 - val_acc: 0.9362\n"
     ]
    }
   ],
   "source": [
    "history = model.fit(Train_Features,tr_y,validation_data=(Test_Features,test_y),epochs=100,batch_size=128,callbacks=[callback])"
   ]
  },
  {
   "cell_type": "code",
   "execution_count": 47,
   "metadata": {
    "colab": {
     "base_uri": "https://localhost:8080/"
    },
    "id": "uU-AiQNyTv9W",
    "outputId": "80f4b91c-4083-4df5-f726-1439a4887bc9"
   },
   "outputs": [
    {
     "name": "stdout",
     "output_type": "stream",
     "text": [
      "4/4 [==============================] - 1s 297ms/step\n"
     ]
    }
   ],
   "source": [
    "y_pred_prob = model.predict(Test_Features,batch_size=128)"
   ]
  },
  {
   "cell_type": "code",
   "execution_count": 48,
   "metadata": {
    "id": "xt-ViQf-ZCWX"
   },
   "outputs": [],
   "source": [
    "y_pred_class = np.argmax(y_pred_prob,axis=1)"
   ]
  },
  {
   "cell_type": "code",
   "execution_count": 49,
   "metadata": {
    "id": "HOpxn3uqe9wm"
   },
   "outputs": [],
   "source": [
    "y_class = np.argmax(test_y,axis=1)"
   ]
  },
  {
   "cell_type": "markdown",
   "metadata": {},
   "source": [
    "## Result & Report"
   ]
  },
  {
   "cell_type": "code",
   "execution_count": 50,
   "metadata": {
    "colab": {
     "base_uri": "https://localhost:8080/"
    },
    "id": "6-ugVAibe87V",
    "outputId": "d7457dbf-e294-4c90-b941-2341dbf5dc68"
   },
   "outputs": [
    {
     "name": "stdout",
     "output_type": "stream",
     "text": [
      "              precision    recall  f1-score   support\n",
      "\n",
      "           0       0.94      0.92      0.93        99\n",
      "           1       0.93      0.94      0.93        79\n",
      "           2       0.96      0.94      0.95       117\n",
      "           3       0.99      0.96      0.97        71\n",
      "           4       0.89      0.93      0.91       104\n",
      "\n",
      "    accuracy                           0.94       470\n",
      "   macro avg       0.94      0.94      0.94       470\n",
      "weighted avg       0.94      0.94      0.94       470\n",
      "\n"
     ]
    }
   ],
   "source": [
    "print(classification_report(y_pred_class,y_class))"
   ]
  },
  {
   "cell_type": "code",
   "execution_count": 51,
   "metadata": {
    "colab": {
     "base_uri": "https://localhost:8080/",
     "height": 312
    },
    "id": "FouufRuyFtSr",
    "outputId": "0fa8a3cf-46c6-4a37-c477-3859aff6f9e1"
   },
   "outputs": [
    {
     "name": "stdout",
     "output_type": "stream",
     "text": [
      "Confusion Matrix with Normalized Values\n"
     ]
    },
    {
     "data": {
      "image/png": "[encoded data removed]",
      "text/plain": [
       "<Figure size 600x400 with 2 Axes>"
      ]
     },
     "metadata": {},
     "output_type": "display_data"
    }
   ],
   "source": [
    "def plot_confusion_matrix(normalize):\n",
    "  classes = ['downdog', 'goddess', 'plank', 'tree', 'warrior2']\n",
    "  #tick_marks = [0.5,1.5,2.5,3.5,4.5]\n",
    "  tick_marks = [0.5,2.0,3.0,4.0,5.0]\n",
    "  cn = confusion_matrix(y_class, y_pred_class,normalize=normalize)\n",
    "  plt.figure(figsize=(6,4))\n",
    "  sns.heatmap(cn,cmap='tab10',annot=True)\n",
    "  plt.xticks(tick_marks, classes)\n",
    "  plt.yticks(tick_marks, classes)\n",
    "  plt.title('Confusion Matrix')\n",
    "  plt.ylabel('True label')\n",
    "  plt.xlabel('Predicted label')\n",
    "  plt.savefig('VGG19_augmented.png')\n",
    "  plt.show()\n",
    "  \n",
    "\n",
    "#print('Confusion Matrix without Normalization')\n",
    "#plot_confusion_matrix(normalize=None)\n",
    "\n",
    "print('Confusion Matrix with Normalized Values')\n",
    "plot_confusion_matrix(normalize='true')"
   ]
  },
  {
   "cell_type": "code",
   "execution_count": 52,
   "metadata": {
    "colab": {
     "base_uri": "https://localhost:8080/",
     "height": 295
    },
    "id": "WbGP23Y6kdoA",
    "outputId": "84280deb-bbdb-4325-c590-b0340cbfb25b"
   },
   "outputs": [
    {
     "data": {
      "image/png": "[encoded data removed]",
      "text/plain": [
       "<Figure size 600x400 with 1 Axes>"
      ]
     },
     "metadata": {},
     "output_type": "display_data"
    }
   ],
   "source": [
    "plt.figure(figsize=(6,4))\n",
    "\n",
    "plt.plot(history.history['acc'])\n",
    "plt.plot(history.history['val_acc'])\n",
    "\n",
    "plt.title('Model Accuracy')\n",
    "plt.ylabel('Accuracy')\n",
    "plt.xlabel('Epoch')\n",
    "\n",
    "plt.legend(['Training', 'Testing'])\n",
    "plt.savefig('VGG19_aug_accuracy.png')\n",
    "plt.show()"
   ]
  },
  {
   "cell_type": "code",
   "execution_count": 53,
   "metadata": {
    "colab": {
     "base_uri": "https://localhost:8080/",
     "height": 295
    },
    "id": "AqQe2Z8ulIiw",
    "outputId": "5108c86f-f14e-410a-b34c-96edfed5329f"
   },
   "outputs": [
    {
     "data": {
      "image/png": "[encoded data removed]",
      "text/plain": [
       "<Figure size 600x400 with 1 Axes>"
      ]
     },
     "metadata": {},
     "output_type": "display_data"
    }
   ],
   "source": [
    "plt.figure(figsize=(6,4))\n",
    "\n",
    "plt.plot(history.history['loss'])\n",
    "plt.plot(history.history['val_loss'])\n",
    "\n",
    "plt.title('Model Loss')\n",
    "plt.ylabel('Loss')\n",
    "plt.xlabel('Epoch')\n",
    "\n",
    "plt.legend(['Training', 'Testing'])\n",
    "plt.savefig('VGG19_aug_loss.png')\n",
    "plt.show()"
   ]
  }
 ],
 "metadata": {
  "accelerator": "GPU",
  "colab": {
   "provenance": []
  },
  "kernelspec": {
   "display_name": "Python 3.9 (tf2.9)",
   "language": "python",
   "name": "tf2.9"
  },
  "language_info": {
   "codemirror_mode": {
    "name": "ipython",
    "version": 3
   },
   "file_extension": ".py",
   "mimetype": "text/x-python",
   "name": "python",
   "nbconvert_exporter": "python",
   "pygments_lexer": "ipython3",
   "version": "3.9.13"
  }
 },
 "nbformat": 4,
 "nbformat_minor": 1
}
